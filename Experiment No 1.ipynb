{
 "cells": [
  {
   "cell_type": "markdown",
   "metadata": {},
   "source": [
    "![](./lab%20header%20image.jpg)"
   ]
  },
  {
   "cell_type": "markdown",
   "metadata": {},
   "source": [
    "#### **Subject**: High Performance Computing | Experiment No - 01 (4th YEAR CSE-AIML 2024-2025)"
   ]
  },
  {
   "cell_type": "markdown",
   "metadata": {},
   "source": [
    "<img src=\"./Student%20Information.png\" style=\"width: 100%;\" alt=\"Student Information\">"
   ]
  },
  {
   "cell_type": "markdown",
   "metadata": {},
   "source": [
    "#### **Aim**: Writing a program in python to use most common looping construct `for loop` in parallel way. Adopt multiple techniques for implementation like:\n",
    "-\tconcurrent.future\n",
    "-\tmulti Processing modules\n",
    "\n",
    "\n",
    "#### **Theory**:"
   ]
  },
  {
   "cell_type": "markdown",
   "metadata": {},
   "source": [
    "##### **Sample Code using** `concurrent.futures.ThreadPoolExecutor\n",
    "This method uses threads for parallelism and is suitable for I/O-bound tasks."
   ]
  },
  {
   "cell_type": "code",
   "execution_count": 1,
   "metadata": {},
   "outputs": [
    {
     "name": "stdout",
     "output_type": "stream",
     "text": [
      "[14, 10, 6, 16, 12, 0, 2, 18, 8, 4]\n"
     ]
    }
   ],
   "source": [
    "import concurrent.futures\n",
    "def task(i):\n",
    "    # Do some computation here\n",
    "    return i * 2\n",
    "with concurrent.futures.ThreadPoolExecutor() as executor:\n",
    "    # Submit tasks to the executor\n",
    "    futures = [executor.submit(task, i) for i in range(10)]\n",
    "    # Collect the results\n",
    "    results = [future.result() for future in concurrent.futures.as_completed(futures)]\n",
    "print(results)"
   ]
  },
  {
   "cell_type": "markdown",
   "metadata": {},
   "source": [
    "**Explanation:**\n",
    "\n",
    "1. Importing the module\n",
    "2. Defining the Task Function\n",
    "3. Creating a Thread Pool : The `ThreadPoolExecutor` object which manage a pool of threads `with` that executor is properly cleaned after executed(All Threads are shutdown)\n",
    "4. Submitting Task to Executor: Here a list comprehension is used to submit the task function to executor 10 times (Range 0 to 9)\n",
    "5. Collecting Results: `results = [future.result() for future in concurrent.futures.as_completed(futures)]` this line waits for each future to complete and collect result. `futures.as_completed(futures)` iterates over the futures as they complete(Not Nec. in order they were submitted)\n",
    "6. print result\n",
    "\n",
    "**Summary:** The Code executes the task function concurrently across multiple threads, processes the result as they become available. The order of results might vary due to the nature of concurrent execution"
   ]
  },
  {
   "cell_type": "markdown",
   "metadata": {},
   "source": [
    "##### **Task 1**: Modify Code with for Loop\n",
    "The sample code uses list comprehensions to submit tasks and collect results. Here's how you can modify the code to use for loops instead:"
   ]
  },
  {
   "cell_type": "code",
   "execution_count": 3,
   "metadata": {},
   "outputs": [
    {
     "name": "stdout",
     "output_type": "stream",
     "text": [
      "[8, 12, 14, 4, 0, 18, 16, 2, 10, 6]\n"
     ]
    }
   ],
   "source": [
    "import concurrent.futures\n",
    "\n",
    "def task(i):\n",
    "    return i * 2\n",
    "\n",
    "def main():\n",
    "    with concurrent.futures.ThreadPoolExecutor() as executor:\n",
    "        futures = []\n",
    "        \n",
    "        # Submit tasks using a for loop\n",
    "        for i in range(10):\n",
    "            futures.append(executor.submit(task, i))\n",
    "        \n",
    "        results = []\n",
    "        \n",
    "        # Collect the results using a for loop\n",
    "        for future in concurrent.futures.as_completed(futures):\n",
    "            results.append(future.result())\n",
    "    \n",
    "    print(results)\n",
    "\n",
    "if __name__ == \"__main__\":\n",
    "    main()\n"
   ]
  },
  {
   "cell_type": "markdown",
   "metadata": {},
   "source": [
    "##### **Task 2**: Explanation of \"Submit\" and \"Collect\" Tasks\n",
    "\n",
    "1. **Submit**: In the context of parallel programming, \"submitting a task\" refers to the act of sending a function or a callable object to an executor (like `ThreadPoolExecutor` or `ProcessPoolExecutor`) for execution. The executor schedules the task and returns a `Future` object that acts as a placeholder for the result of the task. This allows the main thread to continue executing without waiting for the task to complete immediately.\n",
    "\n",
    "2. **Collect**: \"Collecting a task\" refers to retrieving the results of the submitted tasks once they are completed. This is done by calling methods like `future.result()` on the Future objects returned when the tasks were submitted. This step is necessary to gather the outputs of the parallel computations and process them further."
   ]
  },
  {
   "cell_type": "markdown",
   "metadata": {},
   "source": [
    "##### **Sample code using** `MultiProcessing`"
   ]
  },
  {
   "cell_type": "code",
   "execution_count": null,
   "metadata": {},
   "outputs": [],
   "source": [
    "from multiprocessing import Pool\n",
    "\n",
    "def f(x):\n",
    "    return x*x\n",
    "\n",
    "if __name__ == '__main__':\n",
    "    with Pool(5) as p:\n",
    "        print(p.map(f, [1, 2, 3]))"
   ]
  },
  {
   "cell_type": "markdown",
   "metadata": {},
   "source": [
    "#### **Conclusion:** "
   ]
  },
  {
   "cell_type": "markdown",
   "metadata": {},
   "source": [
    "<div style=\"float: right; border: 1px solid black; display: inline-block; padding: 10px; text-align: center\">\n",
    "    <br>\n",
    "    <br>\n",
    "    <span style=\"font-weight: bold;\">Signature of Lab Incharge</span>\n",
    "    <br>\n",
    "    <span>(Dr. Kamal Mehta)</span> \n",
    "</div>"
   ]
  }
 ],
 "metadata": {
  "kernelspec": {
   "display_name": "Python 3 (ipykernel)",
   "language": "python",
   "name": "python3"
  },
  "language_info": {
   "codemirror_mode": {
    "name": "ipython",
    "version": 3
   },
   "file_extension": ".py",
   "mimetype": "text/x-python",
   "name": "python",
   "nbconvert_exporter": "python",
   "pygments_lexer": "ipython3",
   "version": "3.10.6"
  }
 },
 "nbformat": 4,
 "nbformat_minor": 4
}
