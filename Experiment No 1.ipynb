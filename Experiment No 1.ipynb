{
 "cells": [
  {
   "cell_type": "markdown",
   "metadata": {},
   "source": [
    "![](./lab%20header%20image.jpg)"
   ]
  },
  {
   "cell_type": "markdown",
   "metadata": {},
   "source": [
    "#### **Subject**: High Performance Computing | Experiment No - 01 (4th YEAR CSE-AIML 2024-2025)"
   ]
  },
  {
   "cell_type": "markdown",
   "metadata": {},
   "source": [
    "<img src=\"./Student%20Information.png\" style=\"width: 100%;\" alt=\"Student Information\">"
   ]
  },
  {
   "cell_type": "markdown",
   "metadata": {},
   "source": [
    "#### **Aim**: Writing a program in python to use most common looping construct `for loop` in parallel way. Adopt multiple techniques for implementation like:\n",
    "-\tconcurrent.future\n",
    "-\tmulti Processing modules\n",
    "\n",
    "\n",
    "#### **Theory**:"
   ]
  },
  {
   "cell_type": "markdown",
   "metadata": {},
   "source": [
    "##### 1. Using `concurrent.futures.ThreadPoolExecutor`\n",
    "This method uses threads for parallelism and is suitable for I/O-bound tasks."
   ]
  },
  {
   "cell_type": "code",
   "execution_count": 7,
   "metadata": {},
   "outputs": [
    {
     "name": "stdout",
     "output_type": "stream",
     "text": [
      "Results using ThreadPoolExecutor: [1, 4, 9, 16, 25]\n"
     ]
    }
   ],
   "source": [
    "import concurrent.futures\n",
    "\n",
    "def task(n):\n",
    "    return n * n\n",
    "\n",
    "def main():\n",
    "    numbers = [1, 2, 3, 4, 5]\n",
    "    \n",
    "    with concurrent.futures.ThreadPoolExecutor() as executor:\n",
    "        results = list(executor.map(task, numbers))\n",
    "\n",
    "    print(\"Results using ThreadPoolExecutor:\", results)\n",
    "\n",
    "if __name__ == \"__main__\":\n",
    "    main()"
   ]
  },
  {
   "cell_type": "markdown",
   "metadata": {},
   "source": [
    "##### 2. Using `concurrent.futures.ProcessPoolExecutor`\n",
    "This method uses processes for parallelism and is more suitable for CPU-bound tasks."
   ]
  },
  {
   "cell_type": "code",
   "execution_count": 2,
   "metadata": {},
   "outputs": [
    {
     "name": "stdout",
     "output_type": "stream",
     "text": [
      "An error occurred during execution: A process in the process pool was terminated abruptly while the future was running or pending.\n"
     ]
    }
   ],
   "source": [
    "import concurrent.futures\n",
    "\n",
    "def task(n):\n",
    "    return n * n\n",
    "\n",
    "def main():\n",
    "    numbers = [1, 2, 3, 4, 5]\n",
    "    \n",
    "    with concurrent.futures.ProcessPoolExecutor() as executor:\n",
    "        results = list(executor.map(task, numbers))\n",
    "\n",
    "    print(\"Results using ProcessPoolExecutor:\", results)\n",
    "\n",
    "if __name__ == \"__main__\":\n",
    "    main()"
   ]
  },
  {
   "cell_type": "markdown",
   "metadata": {},
   "source": [
    "##### 3. Using the `multiprocessing` module\n",
    "This method involves manually creating multiple processes for parallel execution."
   ]
  },
  {
   "cell_type": "code",
   "execution_count": null,
   "metadata": {},
   "outputs": [],
   "source": [
    "from multiprocessing import Process, Queue\n",
    "\n",
    "def task(n, queue):\n",
    "    queue.put(n * n)\n",
    "\n",
    "def main():\n",
    "    numbers = [1, 2, 3, 4, 5]\n",
    "    processes = []\n",
    "    queue = Queue()\n",
    "\n",
    "    for num in numbers:\n",
    "        p = Process(target=task, args=(num, queue))\n",
    "        processes.append(p)\n",
    "        p.start()\n",
    "\n",
    "    for p in processes:\n",
    "        p.join()\n",
    "\n",
    "    results = [queue.get() for _ in numbers]\n",
    "    print(\"Results using multiprocessing:\", results)\n",
    "\n",
    "if __name__ == \"__main__\":\n",
    "    main()\n"
   ]
  },
  {
   "cell_type": "markdown",
   "metadata": {},
   "source": [
    "##### 4. Using the `multiprocessing.Pool`\n",
    "This is a more straightforward approach with multiprocessing using a pool of workers."
   ]
  },
  {
   "cell_type": "code",
   "execution_count": null,
   "metadata": {},
   "outputs": [],
   "source": [
    "from multiprocessing import Pool\n",
    "\n",
    "def task(n):\n",
    "    return n * n\n",
    "\n",
    "def main():\n",
    "    numbers = [1, 2, 3, 4, 5]\n",
    "\n",
    "    with Pool() as pool:\n",
    "        results = pool.map(task, numbers)\n",
    "\n",
    "    print(\"Results using multiprocessing Pool:\", results)\n",
    "\n",
    "if __name__ == \"__main__\":\n",
    "    main()\n"
   ]
  },
  {
   "cell_type": "markdown",
   "metadata": {},
   "source": [
    "##### **Task 1**: Modify Code with for Loop\n",
    "The original code uses list comprehensions to submit tasks and collect results. Here's how you can modify the code to use for loops instead:"
   ]
  },
  {
   "cell_type": "code",
   "execution_count": 9,
   "metadata": {},
   "outputs": [
    {
     "name": "stdout",
     "output_type": "stream",
     "text": [
      "[2, 0, 12, 16, 14, 4, 10, 6, 8, 18]\n"
     ]
    }
   ],
   "source": [
    "import concurrent.futures\n",
    "\n",
    "def task(i):\n",
    "    return i * 2\n",
    "\n",
    "def main():\n",
    "    with concurrent.futures.ThreadPoolExecutor() as executor:\n",
    "        futures = []\n",
    "        \n",
    "        # Submit tasks using a for loop\n",
    "        for i in range(10):\n",
    "            futures.append(executor.submit(task, i))\n",
    "        \n",
    "        results = []\n",
    "        \n",
    "        # Collect the results using a for loop\n",
    "        for future in concurrent.futures.as_completed(futures):\n",
    "            results.append(future.result())\n",
    "    \n",
    "    print(results)\n",
    "\n",
    "if __name__ == \"__main__\":\n",
    "    main()\n"
   ]
  },
  {
   "cell_type": "markdown",
   "metadata": {},
   "source": [
    "##### **Task 2**: Explanation of \"Submit\" and \"Collect\" Tasks\n",
    "\n",
    "1. **Submit**: In the context of parallel programming, \"submitting a task\" refers to the act of sending a function or a callable object to an executor (like `ThreadPoolExecutor` or `ProcessPoolExecutor`) for execution. The executor schedules the task and returns a `Future` object that acts as a placeholder for the result of the task. This allows the main thread to continue executing without waiting for the task to complete immediately.\n",
    "\n",
    "2. **Collect**: \"Collecting a task\" refers to retrieving the results of the submitted tasks once they are completed. This is done by calling methods like `future.result()` on the Future objects returned when the tasks were submitted. This step is necessary to gather the outputs of the parallel computations and process them further."
   ]
  },
  {
   "cell_type": "markdown",
   "metadata": {},
   "source": [
    "#### **Conclusion:** "
   ]
  },
  {
   "cell_type": "markdown",
   "metadata": {},
   "source": [
    "<div style=\"float: right; border: 1px solid black; display: inline-block; padding: 10px; text-align: center\">\n",
    "    <br>\n",
    "    <br>\n",
    "    <span style=\"font-weight: bold;\">Signature of Lab Incharge</span>\n",
    "    <br>\n",
    "    <span>(Dr. Kamal Mehta)</span> \n",
    "</div>"
   ]
  }
 ],
 "metadata": {
  "kernelspec": {
   "display_name": "Python 3 (ipykernel)",
   "language": "python",
   "name": "python3"
  },
  "language_info": {
   "codemirror_mode": {
    "name": "ipython",
    "version": 3
   },
   "file_extension": ".py",
   "mimetype": "text/x-python",
   "name": "python",
   "nbconvert_exporter": "python",
   "pygments_lexer": "ipython3",
   "version": "3.12.2"
  }
 },
 "nbformat": 4,
 "nbformat_minor": 4
}
