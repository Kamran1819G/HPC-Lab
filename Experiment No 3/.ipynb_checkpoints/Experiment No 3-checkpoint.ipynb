{
 "cells": [
  {
   "cell_type": "markdown",
   "metadata": {},
   "source": [
    "![](../lab%20header%20image.png)"
   ]
  },
  {
   "cell_type": "markdown",
   "metadata": {},
   "source": [
    "<div style=\"text-align: center;\">\n",
    "    <h3>Experiment No. 03</h3>\n",
    "</div>"
   ]
  },
  {
   "cell_type": "markdown",
   "metadata": {},
   "source": [
    "<img src=\"../Student%20Information.png\" style=\"width: 100%;\" alt=\"Student Information\">"
   ]
  },
  {
   "cell_type": "markdown",
   "metadata": {},
   "source": [
    "<div style=\"border: 1px solid #ccc; padding: 8px; background-color: #f0f0f0; text-align: center;\">\n",
    "    <strong>AIM</strong>\n",
    "</div>"
   ]
  },
  {
   "cell_type": "markdown",
   "metadata": {},
   "source": [
    "**To understand the concept of Thread.sleep() using Java, and implement sorting with concurrent threads and thread sleep function**"
   ]
  },
  {
   "cell_type": "markdown",
   "metadata": {},
   "source": [
    "<div style=\"border: 1px solid #ccc; padding: 8px; background-color: #f0f0f0; text-align: center;\">\n",
    "    <strong>Theory/Procedure/Algorithm</strong>\n",
    "</div>"
   ]
  },
  {
   "cell_type": "markdown",
   "metadata": {},
   "source": [
    "**Concept of `Thread.sleep()` in Java**\n",
    "\n",
    "In Java, the `Thread` class, located in the `java.lang` package, represents a thread of execution within a program. One of the key methods of this class is the static method `Thread.sleep()`, which allows a thread to pause its execution for a specified period of time. After the specified duration, the thread resumes execution unless it is interrupted.\n",
    "\n",
    "**Variations of `Thread.sleep()` Method** \\\n",
    "There are two primary overloads of the `Thread.sleep()` method:\n",
    "\n",
    "1. `sleep(long millis)`: Pauses the current thread for the given number of milliseconds.\n",
    "2. `sleep(long millis, int nanos)`: Pauses the current thread for the specified number of milliseconds and nanoseconds (where nanos ranges from 0 to 999,999).\n",
    "\n",
    "**Method Signatures:**\n",
    "\n",
    "1. `public static void sleep(long millis) throws InterruptedException`\n",
    "2. `public static void sleep(long millis, int nanos) throws InterruptedException`\n",
    "\n",
    "Both versions of the method throw an `InterruptedException` if another thread interrupts the current thread during its sleep period. These methods do not return any value and must be used in a `try-catch` block or declared with `throws` to handle the exception.\n",
    "\n",
    "**Parameters**:\n",
    "\n",
    "- **millis**: The number of milliseconds the thread should sleep.\n",
    "- **nanos**: (Optional) An additional sleep time in nanoseconds (between 0 and 999,999).\n",
    "\n",
    "If invalid values for `millis` or `nanos` are passed (such as negative values or out-of-bound nanosecond values), an `IllegalArgumentException` will be thrown.\n",
    "\n",
    "**Key Points**:\n",
    "\n",
    "- **Thread Control**: The method pauses the execution of the current thread without affecting the execution of other threads.\n",
    "- **System Load Impact**: While `Thread.sleep()` aims to pause the thread for a specific amount of time, the actual sleep time may vary depending on system load and scheduling. In modern systems, this variance is usually small.\n",
    "- **Exception Handling**: The `InterruptedException` is a checked exception, which means it must either be caught in a `try-catch` block or declared in the method signature using `throws InterruptedException`.\n",
    "\n",
    "**Example:**"
   ]
  },
  {
   "cell_type": "code",
   "execution_count": null,
   "metadata": {},
   "outputs": [],
   "source": [
    "try {\n",
    "    Thread.sleep(1000); // Pauses execution for 1 second\n",
    "} catch (InterruptedException e) {\n",
    "    // Handle the exception if the thread is interrupted\n",
    "    System.out.println(\"Thread was interrupted\");\n",
    "}"
   ]
  },
  {
   "cell_type": "markdown",
   "metadata": {},
   "source": [
    "**Usage in Concurrent Sorting**:\n",
    "\n",
    "In a multi-threaded sorting algorithm, such as merge sort or quick sort, `Thread.sleep()` can be used to simulate delays in sorting operations. Each thread may sort a portion of the array, and `Thread.sleep()` can help manage thread timing, synchronization, or simulate real-world processing delays. This allows for better control over when and how threads perform their tasks.\n",
    "\n",
    "For example, when implementing concurrent sorting:\n",
    "\n",
    "- One thread may sort a portion of the array.\n",
    "- After completing its portion, the thread can call `Thread.sleep()` to allow another thread to perform its operation or simulate a processing delay.\n",
    "\n",
    "This ensures that multiple threads don't overwhelm the system and helps manage the timing of each sorting task."
   ]
  },
  {
   "cell_type": "markdown",
   "metadata": {},
   "source": [
    "##### **Task 1**: Develop a Java code for implementing parallel sort for 1-Dimentional array of size 100. Code must create 04 parallel threads with equal division of input data."
   ]
  },
  {
   "cell_type": "code",
   "execution_count": null,
   "metadata": {},
   "outputs": [],
   "source": [
    "import java.util.Arrays;\n",
    "\n",
    "public class ParallelSort {\n",
    "  private static final int ARRAY_SIZE = 100;\n",
    "  private static final int NUM_THREADS = 4;\n",
    "\n",
    "  public static void main(String[] args) {\n",
    "    int[] array = createArray();\n",
    "    System.out.println(\"Before sorting: \" + Arrays.toString(array));\n",
    "\n",
    "    Thread[] threads = new Thread[NUM_THREADS];\n",
    "    int segmentSize = ARRAY_SIZE / NUM_THREADS;\n",
    "\n",
    "    for (int i = 0; i < NUM_THREADS; i++) {\n",
    "      int startIndex = i * segmentSize;\n",
    "      int endIndex = (i == NUM_THREADS - 1) ? ARRAY_SIZE - 1\n",
    "                                            : (startIndex + segmentSize - 1);\n",
    "      threads[i] = new Thread(new SortTask(array, startIndex, endIndex));\n",
    "      threads[i].start();\n",
    "    }\n",
    "\n",
    "    for (Thread thread : threads) {\n",
    "      try {\n",
    "        thread.join(); // Ensure all threads complete before moving forward\n",
    "      } catch (InterruptedException e) {\n",
    "        e.printStackTrace();\n",
    "      }\n",
    "    }\n",
    "\n",
    "    // Perform final merge sort to combine the sorted segments\n",
    "    mergeSort(array, 0, ARRAY_SIZE - 1);\n",
    "\n",
    "    System.out.println(\"After sorting: \" + Arrays.toString(array));\n",
    "  }\n",
    "\n",
    "  // Function to create a random array\n",
    "  private static int[] createArray() {\n",
    "    int[] array = new int[ARRAY_SIZE];\n",
    "    for (int i = 0; i < ARRAY_SIZE; i++) {\n",
    "      array[i] =\n",
    "          (int) (Math.random() * 400); // Random numbers between 0 and 400\n",
    "    }\n",
    "    return array;\n",
    "  }\n",
    "\n",
    "  // Merge Sort function\n",
    "  private static void mergeSort(int[] array, int left, int right) {\n",
    "    if (left < right) {\n",
    "      int mid = (left + right) / 2;\n",
    "      mergeSort(array, left, mid);\n",
    "      mergeSort(array, mid + 1, right);\n",
    "      merge(array, left, mid, right);\n",
    "    }\n",
    "  }\n",
    "\n",
    "  // Merge function to combine two sorted halves\n",
    "  private static void merge(int[] array, int left, int mid, int right) {\n",
    "    int[] temp = new int[right - left + 1];\n",
    "    int i = left, j = mid + 1, k = 0;\n",
    "\n",
    "    while (i <= mid && j <= right) {\n",
    "      if (array[i] <= array[j]) {\n",
    "        temp[k++] = array[i++];\n",
    "      } else {\n",
    "        temp[k++] = array[j++];\n",
    "      }\n",
    "    }\n",
    "\n",
    "    while (i <= mid) {\n",
    "      temp[k++] = array[i++];\n",
    "    }\n",
    "\n",
    "    while (j <= right) {\n",
    "      temp[k++] = array[j++];\n",
    "    }\n",
    "\n",
    "    System.arraycopy(temp, 0, array, left, temp.length);\n",
    "  }\n",
    "\n",
    "  // Task class for sorting each segment\n",
    "  static class SortTask implements Runnable {\n",
    "    private int[] array;\n",
    "    private int startIndex;\n",
    "    private int endIndex;\n",
    "\n",
    "    public SortTask(int[] array, int startIndex, int endIndex) {\n",
    "      this.array = array;\n",
    "      this.startIndex = startIndex;\n",
    "      this.endIndex = endIndex;\n",
    "    }\n",
    "\n",
    "    @Override\n",
    "    public void run() {\n",
    "      Arrays.sort(array, startIndex, endIndex + 1);\n",
    "    }\n",
    "  }\n",
    "}"
   ]
  },
  {
   "cell_type": "code",
   "execution_count": 1,
   "metadata": {},
   "outputs": [
    {
     "data": {
      "text/html": [
       "<img src=\"./Task%201%20Output.png\" style=\"height:150px;\"/>"
      ],
      "text/plain": [
       "<IPython.core.display.HTML object>"
      ]
     },
     "execution_count": 1,
     "metadata": {},
     "output_type": "execute_result"
    }
   ],
   "source": [
    "from IPython.display import HTML\n",
    "\n",
    "HTML('<img src=\"./Task%201%20Output.png\" style=\"height:150px;\"/>')\n"
   ]
  },
  {
   "cell_type": "markdown",
   "metadata": {},
   "source": [
    "##### **Task 2**: Use Thread Sleep function on the above code and observe the output.."
   ]
  },
  {
   "cell_type": "code",
   "execution_count": null,
   "metadata": {},
   "outputs": [],
   "source": [
    "import java.time.LocalTime;\n",
    "import java.util.Arrays;\n",
    "\n",
    "public class ParallelSortWithThreadSleep {\n",
    "  private static final int ARRAY_SIZE = 100;\n",
    "  private static final int NUM_THREADS = 4;\n",
    "\n",
    "  public static void main(String[] args) {\n",
    "    int[] array = createArray();\n",
    "    System.out.println(\"Before sorting: \" + Arrays.toString(array));\n",
    "\n",
    "    Thread[] threads = new Thread[NUM_THREADS];\n",
    "    int segmentSize = ARRAY_SIZE / NUM_THREADS;\n",
    "\n",
    "    for (int i = 0; i < NUM_THREADS; i++) {\n",
    "      int startIndex = i * segmentSize;\n",
    "      int endIndex = (i == NUM_THREADS - 1) ? ARRAY_SIZE - 1\n",
    "                                            : (startIndex + segmentSize - 1);\n",
    "      threads[i] = new Thread(new SortTask(array, startIndex, endIndex));\n",
    "      threads[i].start();\n",
    "    }\n",
    "\n",
    "    for (Thread thread : threads) {\n",
    "      try {\n",
    "        thread.join(); // Ensure all threads complete before moving forward\n",
    "      } catch (InterruptedException e) {\n",
    "        e.printStackTrace();\n",
    "      }\n",
    "    }\n",
    "\n",
    "    // Perform final merge sort to combine the sorted segments\n",
    "    mergeSort(array, 0, ARRAY_SIZE - 1);\n",
    "\n",
    "    System.out.println(\"After sorting: \" + Arrays.toString(array));\n",
    "  }\n",
    "\n",
    "  // Function to create a random array\n",
    "  private static int[] createArray() {\n",
    "    int[] array = new int[ARRAY_SIZE];\n",
    "    for (int i = 0; i < ARRAY_SIZE; i++) {\n",
    "      array[i] =\n",
    "          (int) (Math.random() * 400); // Random numbers between 0 and 400\n",
    "    }\n",
    "    return array;\n",
    "  }\n",
    "\n",
    "  // Merge Sort function\n",
    "  private static void mergeSort(int[] array, int left, int right) {\n",
    "    if (left < right) {\n",
    "      int mid = (left + right) / 2;\n",
    "      mergeSort(array, left, mid);\n",
    "      mergeSort(array, mid + 1, right);\n",
    "      merge(array, left, mid, right);\n",
    "    }\n",
    "  }\n",
    "\n",
    "  // Merge function to combine two sorted halves\n",
    "  private static void merge(int[] array, int left, int mid, int right) {\n",
    "    int[] temp = new int[right - left + 1];\n",
    "    int i = left, j = mid + 1, k = 0;\n",
    "\n",
    "    while (i <= mid && j <= right) {\n",
    "      if (array[i] <= array[j]) {\n",
    "        temp[k++] = array[i++];\n",
    "      } else {\n",
    "        temp[k++] = array[j++];\n",
    "      }\n",
    "    }\n",
    "\n",
    "    while (i <= mid) {\n",
    "      temp[k++] = array[i++];\n",
    "    }\n",
    "\n",
    "    while (j <= right) {\n",
    "      temp[k++] = array[j++];\n",
    "    }\n",
    "\n",
    "    System.arraycopy(temp, 0, array, left, temp.length);\n",
    "  }\n",
    "\n",
    "  // Task class for sorting each segment\n",
    "  static class SortTask implements Runnable {\n",
    "    private int[] array;\n",
    "    private int startIndex;\n",
    "    private int endIndex;\n",
    "\n",
    "    public SortTask(int[] array, int startIndex, int endIndex) {\n",
    "      this.array = array;\n",
    "      this.startIndex = startIndex;\n",
    "      this.endIndex = endIndex;\n",
    "    }\n",
    "\n",
    "    @Override\n",
    "    public void run() {\n",
    "      try {\n",
    "        // Add sleep to simulate delay\n",
    "        System.out.println(\"[\" + LocalTime.now()\n",
    "            + \"] Sorting segment: \" + startIndex + \" to \" + endIndex);\n",
    "        Thread.sleep(2000); // Sleep for 2 seconds before sorting\n",
    "        Arrays.sort(array, startIndex, endIndex + 1);\n",
    "        System.out.println(\"[\" + LocalTime.now()\n",
    "            + \"] Sorted segment: \" + startIndex + \" to \" + endIndex);\n",
    "      } catch (InterruptedException e) {\n",
    "        e.printStackTrace();\n",
    "      }\n",
    "    }\n",
    "  }\n",
    "}"
   ]
  },
  {
   "cell_type": "code",
   "execution_count": 3,
   "metadata": {},
   "outputs": [
    {
     "data": {
      "text/html": [
       "<img src=\"./Task%202%20Output.png\" style=\"height:300px;\"/>"
      ],
      "text/plain": [
       "<IPython.core.display.HTML object>"
      ]
     },
     "execution_count": 3,
     "metadata": {},
     "output_type": "execute_result"
    }
   ],
   "source": [
    "from IPython.display import HTML\n",
    "\n",
    "HTML('<img src=\"./Task%202%20Output.png\" style=\"height:300px;\"/>')"
   ]
  },
  {
   "cell_type": "markdown",
   "metadata": {},
   "source": [
    "**Reference materials:**\n",
    "https://www.w3resource.com/java-exercises/thread/java-thread-exercise-3.php"
   ]
  },
  {
   "cell_type": "markdown",
   "metadata": {},
   "source": [
    "<div style=\"border: 1px solid #ccc; padding: 8px; background-color: #f0f0f0; text-align: center;\">\n",
    "    <strong>CONCLUSION</strong>\n",
    "</div>"
   ]
  },
  {
   "cell_type": "markdown",
   "metadata": {},
   "source": [
    "The experiment demonstrated the use of the `Thread.sleep()` method in Java to control the execution timing of concurrent threads during a parallel sorting process. By introducing delays, we observed how thread timing can be managed without affecting the overall sorting outcome. This reinforces the concept of thread management and synchronization in multi-threaded applications."
   ]
  },
  {
   "cell_type": "markdown",
   "metadata": {},
   "source": [
    "<div style=\"border: 1px solid #ccc; padding: 8px; background-color: #f0f0f0; text-align: center;\">\n",
    "    <strong>ASSESSMENT</strong>\n",
    "</div>"
   ]
  },
  {
   "cell_type": "markdown",
   "metadata": {},
   "source": [
    "<img src=\"../marks_distribution.png\" style=\"width: 100%;\" alt=\"marks_distribution\">"
   ]
  }
 ],
 "metadata": {
  "kernelspec": {
   "display_name": "Python 3 (ipykernel)",
   "language": "python",
   "name": "python3"
  },
  "language_info": {
   "codemirror_mode": {
    "name": "ipython",
    "version": 3
   },
   "file_extension": ".py",
   "mimetype": "text/x-python",
   "name": "python",
   "nbconvert_exporter": "python",
   "pygments_lexer": "ipython3",
   "version": "3.12.2"
  }
 },
 "nbformat": 4,
 "nbformat_minor": 4
}
